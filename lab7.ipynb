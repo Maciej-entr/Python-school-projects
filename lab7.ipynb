{
  "nbformat": 4,
  "nbformat_minor": 0,
  "metadata": {
    "colab": {
      "provenance": []
    },
    "kernelspec": {
      "name": "python3",
      "display_name": "Python 3"
    },
    "language_info": {
      "name": "python"
    }
  },
  "cells": [
    {
      "cell_type": "markdown",
      "source": [
        "zad 1 a"
      ],
      "metadata": {
        "id": "AGsm8LUkN61I"
      }
    },
    {
      "cell_type": "code",
      "source": [
        "def sprawdzPodzielnosc():\n",
        "    for i in range(1, 51):\n",
        "        if i % 4 == 0 and i % 6 == 0:\n",
        "            print(f\"{i}: podzielna przez Cztery i Sześć\")\n",
        "        elif i % 4 == 0:\n",
        "            print(f\"{i}: podzielna przez Cztery\")\n",
        "        elif i % 6 == 0:\n",
        "            print(f\"{i}: podzielna przez Sześć\")\n",
        "\n",
        "\n",
        "sprawdzPodzielnosc()"
      ],
      "metadata": {
        "id": "GlySPDu8N8n2"
      },
      "execution_count": null,
      "outputs": []
    },
    {
      "cell_type": "markdown",
      "source": [
        "zad 1 b"
      ],
      "metadata": {
        "id": "fEmXj6GLOcUy"
      }
    },
    {
      "cell_type": "code",
      "source": [
        "def liczWystapieniaLiter(tekst):\n",
        "    slownikWystapien = {}\n",
        "\n",
        "    for litera in tekst:\n",
        "        if litera in slownikWystapien:\n",
        "            slownikWystapien[litera] += 1\n",
        "        else:\n",
        "            slownikWystapien[litera] = 1\n",
        "\n",
        "    return slownikWystapien\n",
        "\n",
        "tekst = input(\"Podaj ciąg znaków: \")\n",
        "slownik = liczWystapieniaLiter(tekst)\n",
        "print(slownik)"
      ],
      "metadata": {
        "id": "3z123hi1PCW-"
      },
      "execution_count": null,
      "outputs": []
    },
    {
      "cell_type": "markdown",
      "source": [
        "zad 1 c"
      ],
      "metadata": {
        "id": "_iMSUx5OPNWZ"
      }
    },
    {
      "cell_type": "code",
      "source": [
        "def konwertujNaKrotke(liczbaFloat):\n",
        "    liczbaStr = str(liczbaFloat)\n",
        "    liczbaInt = int(liczbaFloat)\n",
        "    liczbaFloatZmienna = float(liczbaFloat)\n",
        "\n",
        "    return (liczbaStr, liczbaInt, liczbaFloatZmienna)\n",
        "\n",
        "\n",
        "liczba = float(input(\"Podaj liczbę typu float: \"))\n",
        "wynik = konwertujNaKrotke(liczba)\n",
        "print(wynik)\n"
      ],
      "metadata": {
        "id": "7b7MRcvMPOxY"
      },
      "execution_count": null,
      "outputs": []
    },
    {
      "cell_type": "markdown",
      "source": [
        "zad 2 a"
      ],
      "metadata": {
        "id": "OdzgvWxMP37z"
      }
    },
    {
      "cell_type": "code",
      "source": [
        "def sprawdzTypy(wartosc, oczekiwanyTyp):\n",
        "    if isinstance(wartosc, oczekiwanyTyp):\n",
        "        return True\n",
        "    else:\n",
        "        raise TypeError(f\"Błędny typ: oczekiwano {oczekiwanyTyp}, otrzymano {type(wartosc)}\")\n",
        "\n",
        "\n",
        "try:\n",
        "    wartosc = 12\n",
        "    oczekiwanyTyp = int\n",
        "    wynik = sprawdzTypy(wartosc, oczekiwanyTyp)\n",
        "    print(wynik)\n",
        "except TypeError as e:\n",
        "    print(e)\n"
      ],
      "metadata": {
        "colab": {
          "base_uri": "https://localhost:8080/"
        },
        "id": "I7adDfSjRcG3",
        "outputId": "f19b62cd-28a6-4239-a8ef-c61a4c002410"
      },
      "execution_count": null,
      "outputs": [
        {
          "output_type": "stream",
          "name": "stdout",
          "text": [
            "True\n"
          ]
        }
      ]
    },
    {
      "cell_type": "markdown",
      "source": [
        "zad 2 b"
      ],
      "metadata": {
        "id": "Rhk-IPEiRevx"
      }
    },
    {
      "cell_type": "code",
      "source": [
        "def sprawdzTypyList(lista1, lista2, plikWynikowy=\"types.txt\"):\n",
        "    with open(plikWynikowy, \"w\") as plik:\n",
        "        for i in range(min(len(lista1), len(lista2))):\n",
        "            if type(lista1[i]) == type(lista2[i]):\n",
        "                plik.write(f\"Element {i}: Zgodne typy ({type(lista1[i]).__name__})\\n\")\n",
        "            else:\n",
        "                plik.write(f\"Element {i}: Niezgodne typy ({type(lista1[i]).__name__} != {type(lista2[i]).__name__})\\n\")\n",
        "        if len(lista1) != len(lista2):\n",
        "            plik.write(f\"Listy mają różne długości! lista1: {len(lista1)} elementów, lista2: {len(lista2)} elementów\\n\")\n",
        "\n",
        "def wprowadzWartosciDoListy():\n",
        "    lista = []\n",
        "    while True:\n",
        "        wartosc = input(\"Wprowadź wartość do listy (lub wpisz 'stop', aby zakończyć): \")\n",
        "        if wartosc.lower() == 'stop':\n",
        "            break\n",
        "        else:\n",
        "\n",
        "            try:\n",
        "                if '.' in wartosc:\n",
        "                    lista.append(float(wartosc))\n",
        "                else:\n",
        "                    lista.append(int(wartosc))\n",
        "            except ValueError:\n",
        "                lista.append(wartosc)\n",
        "    return lista\n",
        "\n",
        "\n",
        "print(\"Wprowadzanie wartości do listy 1:\")\n",
        "lista1 = wprowadzWartosciDoListy()\n",
        "\n",
        "print(\"\\nWprowadzanie wartości do listy 2:\")\n",
        "lista2 = wprowadzWartosciDoListy()\n",
        "\n",
        "\n",
        "sprawdzTypyList(lista1, lista2)\n",
        "\n",
        "print(\"\\nWyniki zostały zapisane do pliku 'types.txt'.\")\n"
      ],
      "metadata": {
        "id": "tHzRSoqeRnRh"
      },
      "execution_count": null,
      "outputs": []
    },
    {
      "cell_type": "markdown",
      "source": [
        "zad 3"
      ],
      "metadata": {
        "id": "7cridSZBTnV0"
      }
    },
    {
      "cell_type": "code",
      "source": [
        "def policzTakNie(plikWejsciowy):\n",
        "    licznikTak = 0\n",
        "    licznikNie = 0\n",
        "\n",
        "\n",
        "    with open(plikWejsciowy, \"r\") as plik:\n",
        "        for linia in plik:\n",
        "            if \"Tak\" in linia:\n",
        "                licznikTak += 1\n",
        "            elif \"Nie\" in linia:\n",
        "                licznikNie += 1\n",
        "\n",
        "    return licznikTak, licznikNie\n",
        "\n",
        "plikWejsciowy = \"types.txt\"\n",
        "tak, nie = policzTakNie(plikWejsciowy)\n",
        "\n",
        "print(f\"Liczba 'Tak': {tak}\")\n",
        "print(f\"Liczba 'Nie': {nie}\")\n"
      ],
      "metadata": {
        "id": "VQhPY-3BToTv"
      },
      "execution_count": null,
      "outputs": []
    },
    {
      "cell_type": "markdown",
      "source": [
        "zad 4"
      ],
      "metadata": {
        "id": "diq-nWGwUXu5"
      }
    },
    {
      "cell_type": "code",
      "source": [
        "def wczytajMacierz():\n",
        "\n",
        "    wiersze = int(input(\"Podaj liczbę wierszy: \"))\n",
        "    kolumny = int(input(\"Podaj liczbę kolumn: \"))\n",
        "\n",
        "\n",
        "    macierz = []\n",
        "    for i in range(wiersze):\n",
        "        wiersz = []\n",
        "        print(f\"Wprowadź elementy wiersza {i + 1}:\")\n",
        "        for j in range(kolumny):\n",
        "            wartosc = int(input(f\"Element [{i + 1}, {j + 1}]: \"))\n",
        "            wiersz.append(wartosc)\n",
        "        macierz.append(wiersz)\n",
        "\n",
        "    return macierz\n",
        "\n",
        "def obliczSumy(macierz):\n",
        "    sumaCalkowita = 0\n",
        "    sumaWierszowa = []\n",
        "    sumaKolumnowa = [0] * len(macierz[0])\n",
        "\n",
        "\n",
        "    for wiersz in macierz:\n",
        "        sumaWierszowa.append(sum(wiersz))\n",
        "        sumaCalkowita += sum(wiersz)\n",
        "\n",
        "\n",
        "        for i in range(len(wiersz)):\n",
        "            sumaKolumnowa[i] += wiersz[i]\n",
        "\n",
        "    return sumaCalkowita, sumaWierszowa, sumaKolumnowa\n",
        "\n",
        "macierz = wczytajMacierz()\n",
        "\n",
        "\n",
        "sumaCalkowita, sumaWierszowa, sumaKolumnowa = obliczSumy(macierz)\n",
        "\n",
        "\n",
        "print(\"\\nWyniki:\")\n",
        "print(f\"Suma całkowita: {sumaCalkowita}\")\n",
        "print(f\"Suma wierszowa: {sumaWierszowa}\")\n",
        "print(f\"Suma kolumnowa: {sumaKolumnowa}\")\n"
      ],
      "metadata": {
        "id": "kAE21IDyUYg-"
      },
      "execution_count": null,
      "outputs": []
    }
  ]
}